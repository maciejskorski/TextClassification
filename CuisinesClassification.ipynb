{
 "cells": [
  {
   "cell_type": "markdown",
   "metadata": {},
   "source": [
    "# What's is cooking?\n",
    "\n",
    "The task is to guess the cuisine based on cooking receipts.\n",
    "\n",
    "Data files are provided on Kaggle https://www.kaggle.com/c/whats-cooking"
   ]
  },
  {
   "cell_type": "code",
   "execution_count": 157,
   "metadata": {},
   "outputs": [],
   "source": [
    "# we will be using these packages\n",
    "\n",
    "import pandas as pnd\n",
    "\n",
    "import numpy as np\n",
    "\n",
    "import sklearn\n",
    "\n",
    "from sklearn.feature_extraction.text import CountVectorizer, TfidfTransformer\n",
    "\n",
    "from sklearn.model_selection import train_test_split\n",
    "\n",
    "from sklearn.svm import LinearSVC\n",
    "\n",
    "import re"
   ]
  },
  {
   "cell_type": "markdown",
   "metadata": {},
   "source": [
    "## Data Extraction"
   ]
  },
  {
   "cell_type": "code",
   "execution_count": 27,
   "metadata": {},
   "outputs": [
    {
     "data": {
      "text/html": [
       "<div>\n",
       "<style>\n",
       "    .dataframe thead tr:only-child th {\n",
       "        text-align: right;\n",
       "    }\n",
       "\n",
       "    .dataframe thead th {\n",
       "        text-align: left;\n",
       "    }\n",
       "\n",
       "    .dataframe tbody tr th {\n",
       "        vertical-align: top;\n",
       "    }\n",
       "</style>\n",
       "<table border=\"1\" class=\"dataframe\">\n",
       "  <thead>\n",
       "    <tr style=\"text-align: right;\">\n",
       "      <th></th>\n",
       "      <th>cuisine</th>\n",
       "      <th>id</th>\n",
       "      <th>ingredients</th>\n",
       "    </tr>\n",
       "  </thead>\n",
       "  <tbody>\n",
       "    <tr>\n",
       "      <th>0</th>\n",
       "      <td>greek</td>\n",
       "      <td>10259</td>\n",
       "      <td>[romaine lettuce, black olives, grape tomatoes...</td>\n",
       "    </tr>\n",
       "    <tr>\n",
       "      <th>1</th>\n",
       "      <td>southern_us</td>\n",
       "      <td>25693</td>\n",
       "      <td>[plain flour, ground pepper, salt, tomatoes, g...</td>\n",
       "    </tr>\n",
       "    <tr>\n",
       "      <th>2</th>\n",
       "      <td>filipino</td>\n",
       "      <td>20130</td>\n",
       "      <td>[eggs, pepper, salt, mayonaise, cooking oil, g...</td>\n",
       "    </tr>\n",
       "    <tr>\n",
       "      <th>3</th>\n",
       "      <td>indian</td>\n",
       "      <td>22213</td>\n",
       "      <td>[water, vegetable oil, wheat, salt]</td>\n",
       "    </tr>\n",
       "    <tr>\n",
       "      <th>4</th>\n",
       "      <td>indian</td>\n",
       "      <td>13162</td>\n",
       "      <td>[black pepper, shallots, cornflour, cayenne pe...</td>\n",
       "    </tr>\n",
       "    <tr>\n",
       "      <th>5</th>\n",
       "      <td>jamaican</td>\n",
       "      <td>6602</td>\n",
       "      <td>[plain flour, sugar, butter, eggs, fresh ginge...</td>\n",
       "    </tr>\n",
       "    <tr>\n",
       "      <th>6</th>\n",
       "      <td>spanish</td>\n",
       "      <td>42779</td>\n",
       "      <td>[olive oil, salt, medium shrimp, pepper, garli...</td>\n",
       "    </tr>\n",
       "    <tr>\n",
       "      <th>7</th>\n",
       "      <td>italian</td>\n",
       "      <td>3735</td>\n",
       "      <td>[sugar, pistachio nuts, white almond bark, flo...</td>\n",
       "    </tr>\n",
       "    <tr>\n",
       "      <th>8</th>\n",
       "      <td>mexican</td>\n",
       "      <td>16903</td>\n",
       "      <td>[olive oil, purple onion, fresh pineapple, por...</td>\n",
       "    </tr>\n",
       "    <tr>\n",
       "      <th>9</th>\n",
       "      <td>italian</td>\n",
       "      <td>12734</td>\n",
       "      <td>[chopped tomatoes, fresh basil, garlic, extra-...</td>\n",
       "    </tr>\n",
       "  </tbody>\n",
       "</table>\n",
       "</div>"
      ],
      "text/plain": [
       "       cuisine     id                                        ingredients\n",
       "0        greek  10259  [romaine lettuce, black olives, grape tomatoes...\n",
       "1  southern_us  25693  [plain flour, ground pepper, salt, tomatoes, g...\n",
       "2     filipino  20130  [eggs, pepper, salt, mayonaise, cooking oil, g...\n",
       "3       indian  22213                [water, vegetable oil, wheat, salt]\n",
       "4       indian  13162  [black pepper, shallots, cornflour, cayenne pe...\n",
       "5     jamaican   6602  [plain flour, sugar, butter, eggs, fresh ginge...\n",
       "6      spanish  42779  [olive oil, salt, medium shrimp, pepper, garli...\n",
       "7      italian   3735  [sugar, pistachio nuts, white almond bark, flo...\n",
       "8      mexican  16903  [olive oil, purple onion, fresh pineapple, por...\n",
       "9      italian  12734  [chopped tomatoes, fresh basil, garlic, extra-..."
      ]
     },
     "execution_count": 27,
     "metadata": {},
     "output_type": "execute_result"
    }
   ],
   "source": [
    "# path to data files\n",
    "train_data_path = 'train.json'\n",
    "\n",
    "data = pnd.read_json(train_data_path)\n",
    "\n",
    "# have a look\n",
    "data[:10]"
   ]
  },
  {
   "cell_type": "code",
   "execution_count": 125,
   "metadata": {},
   "outputs": [
    {
     "name": "stdout",
     "output_type": "stream",
     "text": [
      "lists of cuisines: ['greek' 'southern_us' 'filipino' 'indian' 'jamaican' 'spanish' 'italian'\n",
      " 'mexican' 'chinese' 'british' 'thai' 'vietnamese' 'cajun_creole'\n",
      " 'brazilian' 'french' 'japanese' 'irish' 'korean' 'moroccan' 'russian']\n",
      "total records: 39774\n"
     ]
    }
   ],
   "source": [
    "print(\"lists of cuisines: %s\"%y_train.unique())\n",
    "print(\"total records: %s\"%y_train.shape[0])\n",
    "\n",
    "y = data['cuisine']\n",
    "X = data.drop('cuisine',axis=1)\n",
    "\n",
    "# relatively small number of classes (cuisines) and lots of samples -> we can separate a hold-out set for testing\n",
    "\n",
    "X_train, X_test, y_train, y_test = train_test_split(X,y,train_size=0.7,test_size=0.3,random_state=11)"
   ]
  },
  {
   "cell_type": "markdown",
   "metadata": {},
   "source": [
    "## Bag-of-words model\n"
   ]
  },
  {
   "cell_type": "code",
   "execution_count": 137,
   "metadata": {},
   "outputs": [],
   "source": [
    "# we can see individual ingradients as \"words\" and receipts as \"texts\"\n",
    "\n",
    "word_separator = '|'\n",
    "\n",
    "def preprocess(dt):\n",
    "    dt.loc[:,'receipt_text'] = dt['ingredients'].apply(lambda t: word_separator.join(t))\n",
    "    return dt\n",
    "    \n",
    "pnd.options.mode.chained_assignment = None # disables a general warning that doesn't apply to our case\n",
    "X_train = preprocess(X_train)\n",
    "X_test = preprocess(X_test)\n"
   ]
  },
  {
   "cell_type": "code",
   "execution_count": 144,
   "metadata": {},
   "outputs": [
    {
     "data": {
      "text/plain": [
       "<27841x6076 sparse matrix of type '<class 'numpy.int64'>'\n",
       "\twith 299985 stored elements in Compressed Sparse Row format>"
      ]
     },
     "execution_count": 144,
     "metadata": {},
     "output_type": "execute_result"
    }
   ],
   "source": [
    "# the standard approach is to build term-document matrix\n",
    "\n",
    "# note: we need to make sure that our words can be extracted properly - by our separator\n",
    "\n",
    "pattern = r'[^|]+'\n",
    "pattern = re.compile(pattern)\n",
    "def tokenize(text):\n",
    "    return pattern.findall(text)\n",
    "\n",
    "# build the matrix with the above extraction function\n",
    "\n",
    "vect = CountVectorizer(tokenizer=tokenize)\n",
    "X_train_f = vect.fit_transform(X_train['receipt_text'])\n",
    "\n",
    "# the matrix is sparse, because every receipt uses just a few out of many available ingredients\n",
    "\n",
    "X_train_f\n",
    "\n",
    "# note: we have 27841 receipts and 6076 ingredients in total"
   ]
  },
  {
   "cell_type": "code",
   "execution_count": 139,
   "metadata": {},
   "outputs": [
    {
     "data": {
      "text/plain": [
       "['soy vay® hoisin garlic marinade & sauce',\n",
       " 'one third less sodium chicken broth',\n",
       " 'ground sausage',\n",
       " 'chipotle puree',\n",
       " 'maggi',\n",
       " 'fresh orange juice',\n",
       " 'dandelion greens',\n",
       " 'low-fat cream cheese',\n",
       " 'fudge brownie mix',\n",
       " 'coarse kosher salt']"
      ]
     },
     "execution_count": 139,
     "metadata": {},
     "output_type": "execute_result"
    }
   ],
   "source": [
    "# the vocabulary consists of all ingredients - see the first 10\n",
    "\n",
    "list(vect.vocabulary_.keys())[:10]"
   ]
  },
  {
   "cell_type": "code",
   "execution_count": 145,
   "metadata": {
    "collapsed": true
   },
   "outputs": [],
   "source": [
    "# the next standard step is to assign bigger weights to less frequent (=more selective) terms\n",
    "\n",
    "tfidf = TfidfTransformer()\n",
    "X_train_idf = tfidf.fit_transform(X_train_counts)"
   ]
  },
  {
   "cell_type": "markdown",
   "metadata": {},
   "source": [
    "## Classifier"
   ]
  },
  {
   "cell_type": "code",
   "execution_count": 146,
   "metadata": {},
   "outputs": [
    {
     "data": {
      "text/plain": [
       "LinearSVC(C=1.0, class_weight=None, dual=True, fit_intercept=True,\n",
       "     intercept_scaling=1, loss='squared_hinge', max_iter=1000,\n",
       "     multi_class='ovr', penalty='l2', random_state=None, tol=0.0001,\n",
       "     verbose=0)"
      ]
     },
     "execution_count": 146,
     "metadata": {},
     "output_type": "execute_result"
    }
   ],
   "source": [
    "# finally we can apply a classifier such as SVM\n",
    "\n",
    "clf = LinearSVC()\n",
    "\n",
    "clf.fit(X_train_idf, y_train)"
   ]
  },
  {
   "cell_type": "markdown",
   "metadata": {},
   "source": [
    "## Evaluation\n"
   ]
  },
  {
   "cell_type": "code",
   "execution_count": 148,
   "metadata": {},
   "outputs": [
    {
     "name": "stdout",
     "output_type": "stream",
     "text": [
      "The score is 0.782368222576\n"
     ]
    }
   ],
   "source": [
    "X_test_f = vect.transform(X_test['receipt_text'])\n",
    "X_test_idf = tfidf.transform(X_test_f)\n",
    "\n",
    "print(\"The score is %s\"%clf.score(X_test_idf,y_test))"
   ]
  },
  {
   "cell_type": "markdown",
   "metadata": {},
   "source": [
    "## Example - top ingredients"
   ]
  },
  {
   "cell_type": "code",
   "execution_count": 174,
   "metadata": {},
   "outputs": [
    {
     "name": "stdout",
     "output_type": "stream",
     "text": [
      "brazilian:  chocolate sprinkles,palm oil,manioc flour,hearts of palm,cachaca\n",
      "british:  stilton,suet,marmite,raspberry jam,stilton cheese\n",
      "cajun_creole:  creole style seasoning,blackening seasoning,andouille sausage,creole seasoning,cajun seasoning\n",
      "chinese:  mandarin oranges,hoisin sauce,chinese rice wine,szechwan peppercorns,chinese five-spice powder\n",
      "filipino:  edam,lumpia skins,lumpia wrappers,fruit cocktail,calamansi juice\n",
      "french:  swiss cheese,herbes de provence,grated gruyère cheese,crepes,gruyere cheese\n",
      "greek:  phyllo dough,greek yogurt,greek seasoning,feta cheese,feta cheese crumbles\n",
      "indian:  ground cardamom,tandoori spices,masala,garam masala,curry powder\n",
      "irish:  corned beef,irish cream liqueur,irish bacon,guinness beer,irish whiskey\n",
      "italian:  arborio rice,pesto,italian sausage,mascarpone,ricotta cheese\n",
      "jamaican:  ground allspice,jamaican jerk spice,jerk sauce,jerk seasoning,jamaican jerk season\n",
      "japanese:  matcha green tea powder,sake,dashi,mirin,miso paste\n",
      "korean:  dark sesame oil,rice cakes,korean chile paste,gochujang base,kimchi\n",
      "mexican:  ancho chile pepper,whole wheat tortillas,mexican chocolate,corn tortillas,flour tortillas\n",
      "moroccan:  green tea,preserved lemon,couscous,ras el hanout,harissa\n",
      "russian:  sauerkraut,beets,dill,kasha,pierogi\n",
      "southern_us:  bourbon whiskey,collard greens,black-eyed peas,quickcooking grits,grits\n",
      "spanish:  serrano ham,sherry vinegar,chorizo sausage,spanish chorizo,spanish paprika\n",
      "thai:  creamy peanut butter,chunky peanut butter,thai green curry paste,thai fish sauce,thai red curry paste\n",
      "vietnamese:  rice paper,nuoc mam,vietnamese coriander,fish sauce,vietnamese fish sauce\n"
     ]
    }
   ],
   "source": [
    "# for every cuisine, print top 5 ingredients\n",
    "\n",
    "for i in range(len(clf.classes_)):\n",
    "    cuisine_name = clf.classes_[i]\n",
    "    top_ingred = clf.coef_[i].argsort()[-5:] # extract by indices\n",
    "    top_ingred_names = np.array(vect.get_feature_names())[top_ingred]\n",
    "    print('%s:  %s'% (cuisine_name,','.join(top_ingred_names)))"
   ]
  },
  {
   "cell_type": "code",
   "execution_count": 163,
   "metadata": {},
   "outputs": [
    {
     "data": {
      "text/plain": [
       "array(['granola', 'dende oil', 'dried black beans', 'tapioca flour',\n",
       "       'açai', 'chocolate sprinkles', 'palm oil', 'manioc flour',\n",
       "       'hearts of palm', 'cachaca'], \n",
       "      dtype='<U71')"
      ]
     },
     "execution_count": 163,
     "metadata": {},
     "output_type": "execute_result"
    }
   ],
   "source": [
    "clf.coef_"
   ]
  },
  {
   "cell_type": "code",
   "execution_count": null,
   "metadata": {
    "collapsed": true
   },
   "outputs": [],
   "source": []
  }
 ],
 "metadata": {
  "kernelspec": {
   "display_name": "Python 3",
   "language": "python",
   "name": "python3"
  },
  "language_info": {
   "codemirror_mode": {
    "name": "ipython",
    "version": 3
   },
   "file_extension": ".py",
   "mimetype": "text/x-python",
   "name": "python",
   "nbconvert_exporter": "python",
   "pygments_lexer": "ipython3",
   "version": "3.5.2"
  }
 },
 "nbformat": 4,
 "nbformat_minor": 2
}
